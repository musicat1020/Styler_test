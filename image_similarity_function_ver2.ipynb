{
 "cells": [
  {
   "cell_type": "code",
   "execution_count": 5,
   "metadata": {},
   "outputs": [],
   "source": [
    "# 版权声明：本文为CSDN博主「卡农2020」的原创文章，遵循CC 4.0 BY-SA版权协议，转载请附上原文出处链接及本声明。\n",
    "# 原文链接：https://blog.csdn.net/u012034742/article/details/106318906\n",
    "import cv2\n",
    "from functools import reduce\n",
    "from PIL import Image\n",
    "from sklearn.cluster import KMeans\n",
    "from collections import Counter\n",
    "from matplotlib import pyplot as plt\n",
    "import cv2\n",
    "import os\n",
    "from os.path import basename\n",
    "import json\n",
    "import operator"
   ]
  },
  {
   "cell_type": "code",
   "execution_count": 6,
   "metadata": {},
   "outputs": [],
   "source": [
    "\n",
    "# 计算两个图片相似度函数ORB算法\n",
    "def ORB_img_similarity(img1_path,img2_path):\n",
    "    \"\"\"\n",
    "    :param img1_path: 图片1路径\n",
    "    :param img2_path: 图片2路径\n",
    "    :return: 图片相似度\n",
    "    \"\"\"\n",
    "    try:\n",
    "        # 读取图片\n",
    "        img1 = cv2.imread(img1_path, cv2.IMREAD_GRAYSCALE)\n",
    "        img2 = cv2.imread(img2_path, cv2.IMREAD_GRAYSCALE)\n",
    " \n",
    "        # 初始化ORB检测器\n",
    "        orb = cv2.ORB_create()\n",
    "        kp1, des1 = orb.detectAndCompute(img1, None)\n",
    "        kp2, des2 = orb.detectAndCompute(img2, None)\n",
    " \n",
    "        # 提取并计算特征点\n",
    "        bf = cv2.BFMatcher(cv2.NORM_HAMMING)\n",
    "        # knn筛选结果\n",
    "        matches = bf.knnMatch(des1, trainDescriptors=des2, k=2)\n",
    " \n",
    "        # 查看最大匹配点数目\n",
    "        good = [m for (m, n) in matches if m.distance < 0.75 * n.distance]\n",
    "        similary = len(good) / len(matches)\n",
    "        return similary\n",
    " \n",
    "    except:\n",
    "        return '0'"
   ]
  },
  {
   "cell_type": "code",
   "execution_count": 7,
   "metadata": {},
   "outputs": [],
   "source": [
    "\n",
    "# 计算图片的局部哈希值--pHash\n",
    "def phash(img):\n",
    "    \"\"\"\n",
    "    :param img: 图片\n",
    "    :return: 返回图片的局部hash值\n",
    "    \"\"\"\n",
    "    img = img.resize((8, 8), Image.ANTIALIAS).convert('L')\n",
    "    avg = reduce(lambda x, y: x + y, img.getdata()) / 64.\n",
    "    hash_value=reduce(lambda x, y: x | (y[1] << y[0]), enumerate(map(lambda i: 0 if i < avg else 1, img.getdata())), 0)\n",
    "    return hash_value\n"
   ]
  },
  {
   "cell_type": "code",
   "execution_count": 8,
   "metadata": {},
   "outputs": [],
   "source": [
    "#计算两个图片相似度函数局部敏感哈希算法\n",
    "def phash_img_similarity(img1_path,img2_path):\n",
    "    \"\"\"\n",
    "    :param img1_path: 图片1路径\n",
    "    :param img2_path: 图片2路径\n",
    "    :return: 图片相似度\n",
    "    \"\"\"\n",
    "    # 读取图片\n",
    "    img1 = Image.open(img1_path)\n",
    "    img2 = Image.open(img2_path)\n",
    "   \n",
    " \n",
    "    # 计算汉明距离\n",
    "    distance = bin(phash(img1) ^ phash(img2)).count('1')\n",
    "    similary = 1 - distance / max(len(bin(phash(img1))), len(bin(phash(img1))))\n",
    "    return similary\n"
   ]
  },
  {
   "cell_type": "code",
   "execution_count": 9,
   "metadata": {},
   "outputs": [],
   "source": [
    "# 直方图计算图片相似度算法\n",
    "def make_regalur_image(img):\n",
    "    \"\"\"我们有必要把所有的图片都统一到特别的规格，在这里我选择是的256x256的分辨率。\"\"\"\n",
    "    size=(256,256)\n",
    "    return img.resize(size).convert('RGB')\n",
    " \n",
    "def hist_similar(lh, rh):\n",
    "    assert len(lh) == len(rh)\n",
    "    return sum(1 - (0 if l == r else float(abs(l - r))/max(l, r)) for l, r in zip(lh, rh))/len(lh)\n",
    " \n",
    "def calc_similar(li, ri):\n",
    "    return sum(hist_similar(l.histogram(), r.histogram()) for l, r in zip(split_image(li), split_image(ri))) / 16.0\n",
    " \n",
    "def calc_similar_by_path(lf, rf):\n",
    "    li, ri = make_regalur_image(Image.open(lf)), make_regalur_image(Image.open(rf))\n",
    "    return calc_similar(li, ri)\n",
    " \n",
    "def split_image(img, part_size = (64, 64)):\n",
    "    w, h = img.size\n",
    "    pw, ph = part_size\n",
    "    assert w % pw == h % ph == 0\n",
    "    return [img.crop((i, j, i+pw, j+ph)).copy() for i in range(0, w, pw) \\\n",
    "            for j in range(0, h, ph)]\n",
    "\n"
   ]
  },
  {
   "cell_type": "markdown",
   "metadata": {},
   "source": [
    "# new_similarity_compare"
   ]
  },
  {
   "cell_type": "code",
   "execution_count": 10,
   "metadata": {},
   "outputs": [],
   "source": [
    "import os\n",
    "import shutil\n"
   ]
  },
  {
   "cell_type": "code",
   "execution_count": 11,
   "metadata": {},
   "outputs": [],
   "source": [
    "# 融合相似度阈值\n",
    "threshold1 = 0.65\n",
    "# 最终相似度较高判断阈值\n",
    "threshold2 = 0.75\n"
   ]
  },
  {
   "cell_type": "code",
   "execution_count": 12,
   "metadata": {},
   "outputs": [],
   "source": [
    "\n",
    "# 融合函数计算图片相似度\n",
    "def calc_image_similarity(img1_path,img2_path):\n",
    "    \"\"\"\n",
    "    :param img1_path: filepath+filename\n",
    "    :param img2_path: filepath+filename\n",
    "    :return: 图片最终相似度\n",
    "    \"\"\"\n",
    "    \n",
    "    similary_ORB=float(ORB_img_similarity(img1_path,img2_path))\n",
    "    similary_phash=float(phash_img_similarity(img1_path,img2_path))\n",
    "    similary_hist=float(calc_similar_by_path(img1_path, img2_path))\n",
    "    # 如果三种算法的相似度最大的那个大于0.7，则相似度取最大，否则，取最小。\n",
    "    max_three_similarity=max(similary_ORB,similary_phash,similary_hist)\n",
    "    min_three_similarity=min(similary_ORB,similary_phash,similary_hist)\n",
    "    print(\"ORB:\"+str(similary_ORB))\n",
    "    print(\"phash:\"+str(similary_phash))\n",
    "    print(\"hist:\"+str(similary_hist))\n",
    "    if max_three_similarity>threshold1:\n",
    "        result=max_three_similarity\n",
    "    else:\n",
    "        result=min_three_similarity\n",
    "    print(\"result:\"+str(result))\n",
    " \n",
    "    return round(result,3)\n",
    "\n",
    "    "
   ]
  },
  {
   "cell_type": "code",
   "execution_count": 15,
   "metadata": {},
   "outputs": [],
   "source": [
    "# base_location = 'C:/Users/JIALI/Desktop/test/'\n",
    "# jList = os.listdir(base_location)\n",
    "# filename = \"000025\"\n",
    "def crop(base_location,filename):\n",
    "        crop_dic = []\n",
    "        cate_id = {}\n",
    "        img = cv2.imread(os.path.join(base_location,filename+\".jpg\"))\n",
    "            #    plt.imshow(img)\n",
    "        with open(os.path.join(base_location,filename+\".json\") , 'r') as reader:\n",
    "            jf = json.loads(reader.read())\n",
    "        strjf = str(jf)\n",
    "        maxi = strjf.count('item') + 1\n",
    "        for i in range (1,maxi):\n",
    "            stri = str(i)\n",
    "            # 裁切區域的 x 與 y 座標（左上角）\n",
    "            x1 = jf['item'+stri]['bounding_box'][0]\n",
    "            y1 = jf['item'+stri]['bounding_box'][3]\n",
    "            # 裁切區域的 x 與 y 座標（右下角）\n",
    "            x2 = jf['item'+stri]['bounding_box'][2]\n",
    "            y2 = jf['item'+stri]['bounding_box'][1]\n",
    "            # 裁切圖片\n",
    "            crop_img = img[y2:y1, x1:x2]\n",
    "            category_id = jf['item'+stri]['category_id']\n",
    "            # crop_img = cv2.cvtColor(crop_img,cv2.COLOR_BGR2RGB)\n",
    "            crop_dic.append(crop_img)\n",
    "            name = filename.split('.')[0]\n",
    "            cv2.imwrite(base_location+'crop/'+name+'_'+str(category_id)+'.jpg', crop_img)\n",
    "        return crop_dic,category_id"
   ]
  },
  {
   "cell_type": "code",
   "execution_count": 17,
   "metadata": {},
   "outputs": [
    {
     "name": "stdout",
     "output_type": "stream",
     "text": [
      "searchname000003\n"
     ]
    },
    {
     "ename": "NameError",
     "evalue": "name 'i' is not defined",
     "output_type": "error",
     "traceback": [
      "\u001b[1;31m---------------------------------------------------------------------------\u001b[0m",
      "\u001b[1;31mNameError\u001b[0m                                 Traceback (most recent call last)",
      "\u001b[1;32m<ipython-input-17-f4f682fcbef9>\u001b[0m in \u001b[0;36m<module>\u001b[1;34m\u001b[0m\n\u001b[0;32m     26\u001b[0m                 \u001b[0msearch_dic\u001b[0m \u001b[1;33m=\u001b[0m \u001b[0mcrop\u001b[0m\u001b[1;33m(\u001b[0m\u001b[0mfilepath\u001b[0m\u001b[1;33m,\u001b[0m\u001b[0msearchname\u001b[0m\u001b[1;33m)\u001b[0m\u001b[1;33m\u001b[0m\u001b[1;33m\u001b[0m\u001b[0m\n\u001b[0;32m     27\u001b[0m                 \u001b[0mhave_search\u001b[0m\u001b[1;33m.\u001b[0m\u001b[0mappend\u001b[0m\u001b[1;33m(\u001b[0m\u001b[0msearchname\u001b[0m\u001b[1;33m)\u001b[0m\u001b[1;33m\u001b[0m\u001b[1;33m\u001b[0m\u001b[0m\n\u001b[1;32m---> 28\u001b[1;33m                 \u001b[0mimg2_path\u001b[0m \u001b[1;33m=\u001b[0m \u001b[0mnextpath\u001b[0m \u001b[1;33m+\u001b[0m\u001b[0msearchname\u001b[0m\u001b[1;33m+\u001b[0m\u001b[1;34m\"_\"\u001b[0m\u001b[1;33m+\u001b[0m\u001b[0mcategory_id\u001b[0m\u001b[1;33m[\u001b[0m\u001b[0mi\u001b[0m\u001b[1;33m]\u001b[0m\u001b[1;33m+\u001b[0m\u001b[1;34m\".jpg\"\u001b[0m\u001b[1;33m\u001b[0m\u001b[1;33m\u001b[0m\u001b[0m\n\u001b[0m\u001b[0;32m     29\u001b[0m                 \u001b[1;31m# 相同非同一張圖片的則比較\u001b[0m\u001b[1;33m\u001b[0m\u001b[1;33m\u001b[0m\u001b[1;33m\u001b[0m\u001b[0m\n\u001b[0;32m     30\u001b[0m                 \u001b[1;32mif\u001b[0m \u001b[0msrcname\u001b[0m \u001b[1;33m!=\u001b[0m \u001b[0msearchname\u001b[0m\u001b[1;33m:\u001b[0m\u001b[1;33m\u001b[0m\u001b[1;33m\u001b[0m\u001b[0m\n",
      "\u001b[1;31mNameError\u001b[0m: name 'i' is not defined"
     ]
    }
   ],
   "source": [
    "if __name__ == '__main__':\n",
    " \n",
    "    # 搜索文件夹\n",
    "    nextpath = 'C:/Users/JIALI/Desktop/test/crop/' \n",
    "    filepath = 'C:/Users/JIALI/Desktop/test/' \n",
    "    \n",
    "    srcname =  \"000190\"\n",
    "    category_id = '2'\n",
    "    src_dic = []\n",
    "    src_dic = crop(filepath,srcname)\n",
    "    img1_path = nextpath +srcname+\"_\"+category_id+\".jpg\"\n",
    "    # 相似圖片存放路徑\n",
    "    newfilepath = 'C:/Users/JIALI/Desktop/test/相似/'\n",
    "    have_search = []\n",
    "    for parent, dirnames, filenames in os.walk(filepath):\n",
    "\n",
    "        for filename in filenames:\n",
    "\n",
    "                searchname = filename.split('.')[0]\n",
    "                if '_' in searchname:\n",
    "                    sys.exit([arg])\n",
    "                print(\"searchname\"+searchname)\n",
    "                if(searchname in have_search):\n",
    "                    continue\n",
    "                search_dic = []\n",
    "                search_dic = crop(filepath,searchname)\n",
    "                have_search.append(searchname)\n",
    "                img2_path = nextpath +searchname+\"_\"+category_id[i]+\".jpg\"\n",
    "                # 相同非同一張圖片的則比較\n",
    "                if srcname != searchname:\n",
    "                    # kk = calc_image_similarity(src_dic[0], search_dic[0])\n",
    "                    kk = calc_image_similarity(img1_path,img2_path)\n",
    "                    try:\n",
    "                        if kk >= threshold2:\n",
    "                            # 将两張照片同时copy到指定目錄\n",
    "                            shutil.copy(filepath+srcname+\".jpg\", newfilepath)\n",
    "                            shutil.copy(filepath+searchname+\".jpg\", newfilepath)\n",
    "                    except Exception as e:\n",
    "                        print(e)\n",
    "                        pass"
   ]
  },
  {
   "cell_type": "code",
   "execution_count": null,
   "metadata": {},
   "outputs": [],
   "source": []
  }
 ],
 "metadata": {
  "kernelspec": {
   "display_name": "Python 3",
   "language": "python",
   "name": "python3"
  },
  "language_info": {
   "codemirror_mode": {
    "name": "ipython",
    "version": 3
   },
   "file_extension": ".py",
   "mimetype": "text/x-python",
   "name": "python",
   "nbconvert_exporter": "python",
   "pygments_lexer": "ipython3",
   "version": "3.7.4"
  }
 },
 "nbformat": 4,
 "nbformat_minor": 2
}
