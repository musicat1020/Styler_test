{
 "cells": [
  {
   "cell_type": "code",
   "execution_count": 14,
   "metadata": {},
   "outputs": [],
   "source": [
    "#多頁\n",
    "import requests #匯入函式庫\n",
    "from bs4 import BeautifulSoup #大倉庫匯bs4入小倉庫BeautifulSoup\n",
    "import shutil #檔案下載與儲存的函式庫\n",
    "import os\n",
    "\n",
    "dirname=\"NET_新品上市_ver1\"\n",
    "#建立名為test的資料夾\n",
    "os.mkdir(dirname)\n",
    "m = 1\n",
    "for page in range(1,28):\n",
    "    url = 'https://www.net-fashion.net/category/1466/x'\n",
    "    url = url.replace('x',str(page))#前者替換為後者 page是每次迴圈提取資料 str是強制轉換為文字型態(以這個例子只跑1、2 兩次)\n",
    "    res = requests.get(url)\n",
    "    soup = BeautifulSoup(res.text,'html.parser')#解析爬回來的頁面資料 後者為解析模式\n",
    "    \n",
    "    for pictures in soup.select('.js-product-img'):\n",
    "        #fname = dirname+'/'+pictures['src'].split('/')[-1].split('?')[0]#取得圖檔名稱\n",
    "        fname = dirname+'/'+'NET_新品上市_' + str(m) + '.jpg'#取得圖檔名稱\n",
    "        m = m + 1\n",
    "        res2 = requests.get(pictures['src'].split('?')[0],stream=True)#在下載時保持連線的狀態防止看得到檔名卻沒有內容\n",
    "        pics = open(fname,'wb')#將取得的圖檔名稱寫入電腦資料還沒有內涵，wb=write binary\n",
    "        shutil.copyfileobj(res2.raw,pics)#用到shutil函式庫的方法，第一個對象是來源，第二個對象是目的，從來源複製到目的\n",
    "        pics.close()#有open一定要有close"
   ]
  },
  {
   "cell_type": "code",
   "execution_count": 1,
   "metadata": {},
   "outputs": [],
   "source": []
  },
  {
   "cell_type": "code",
   "execution_count": null,
   "metadata": {},
   "outputs": [],
   "source": []
  }
 ],
 "metadata": {
  "kernelspec": {
   "display_name": "Python 3",
   "language": "python",
   "name": "python3"
  },
  "language_info": {
   "codemirror_mode": {
    "name": "ipython",
    "version": 3
   },
   "file_extension": ".py",
   "mimetype": "text/x-python",
   "name": "python",
   "nbconvert_exporter": "python",
   "pygments_lexer": "ipython3",
   "version": "3.8.5"
  }
 },
 "nbformat": 4,
 "nbformat_minor": 4
}
