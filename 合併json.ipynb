{
 "cells": [
  {
   "cell_type": "code",
   "execution_count": 42,
   "metadata": {},
   "outputs": [],
   "source": [
    "import os\n",
    "import json\n",
    "from pathlib import Path"
   ]
  },
  {
   "cell_type": "code",
   "execution_count": 43,
   "metadata": {},
   "outputs": [],
   "source": [
    "object_detection_dir = 'D:\\測試json\\物件偵測'\n",
    "classification_dir = 'D:\\測試json\\分類器'\n",
    "destination_dir = 'D:\\測試json\\合併'\n",
    "ODList = os.listdir(object_detection_dir)\n",
    "CList = os.listdir(classification_dir)"
   ]
  },
  {
   "cell_type": "code",
   "execution_count": 44,
   "metadata": {},
   "outputs": [],
   "source": [
    "strCList = []\n",
    "strList = []\n",
    "all_dict = {}\n",
    "s = {}"
   ]
  },
  {
   "cell_type": "code",
   "execution_count": 45,
   "metadata": {},
   "outputs": [],
   "source": [
    "for file in ODList:            \n",
    "    if file.endswith(\".json\"):\n",
    "        with open(os.path.join(object_detection_dir,file), 'r') as reader:\n",
    "            ODjf = json.loads(reader.read())\n",
    "        jf = str(ODjf).strip('}').strip('{')\n",
    "        newjf = str(jf).split(\":\")\n",
    "        # org_name為檔名\n",
    "        org_name = file.split(\".\")[0]\n",
    "        for i in range(0,len(newjf)):\n",
    "            if ',' in str(newjf[i]) and '[' not in str(newjf[i]):\n",
    "                cut = str(newjf[i]).split(\",\")\n",
    "                strList.append(cut[0].lstrip())\n",
    "                strList.append(cut[1].lstrip())\n",
    "            elif '}' in str(newjf[i]):\n",
    "                cut = str(newjf[i]).split(\"}\")\n",
    "                strList.append(cut[0].lstrip())\n",
    "                cut_1 = cut[1].split(\",\")\n",
    "                strList.append(cut_1[1].lstrip())\n",
    "            elif '[' in str(newjf[i]) and '}' not in str(newjf[i]):    \n",
    "                strList.append(newjf[i].lstrip())\n",
    "            elif '{' in str(newjf[i]):\n",
    "                cut = str(newjf[i]).split(\"{\")\n",
    "                strList.append(cut[1].lstrip())\n",
    "            else:\n",
    "                strList.append(newjf[i].lstrip())                                  \n",
    "            \n",
    "        for file in CList:    \n",
    "            # name[0]判斷是哪一張圖切下來的 、 item[0]判斷是哪一個 item\n",
    "            name = file.split(\"_\")   \n",
    "            if file.endswith(\".json\") and name[0] == org_name:\n",
    "                with open(os.path.join(classification_dir,file), 'r') as reader:\n",
    "                    Cjf = json.loads(reader.read())\n",
    "                jf = str(Cjf).strip('}').strip('{')\n",
    "                newjf = str(jf).split(\":\")  \n",
    "                item = name[1].split(\".\")\n",
    "                strCList.append(item[0].lstrip())\n",
    "                for i in range(0,len(newjf)):\n",
    "                    if ',' in str(newjf[i]) :\n",
    "                        cut = str(newjf[i]).split(\",\")                  \n",
    "                        strCList.append(cut[0].lstrip())\n",
    "                        strCList.append(cut[1].lstrip())\n",
    "                    else:\n",
    "                        strCList.append(newjf[i].lstrip())\n",
    "\n",
    "        t = int( (len(strList) - 2)/7 )\n",
    "        \n",
    "        all_dict[strList[0]] = strList[1]  \n",
    "        \n",
    "        for i in range(0,t): \n",
    "            s[strList[3+7*i]] = strList[4+7*i]\n",
    "            s[strList[5+7*i]] = strList[6+7*i]\n",
    "            s[strList[7+7*i]] = strList[8+7*i]\n",
    "            # 判斷此分類器 json是哪一個 item的\n",
    "            for n in range(0,t):\n",
    "                if strCList[n*5] == s[\"'Class'\"].replace(\"'\",'').lstrip() :\n",
    "                    s[strCList[5*n+1]] = strCList[5*n+2]\n",
    "                    s[strCList[5*n+3]] = strCList[5*n+4]  \n",
    "            \n",
    "            all_dict[strList[2+7*i]] = s\n",
    "            s = {}\n",
    "        \n",
    "        str_all_dict = str(all_dict).replace(\"'\",'')\n",
    "        all_dict = eval(str_all_dict)\n",
    "        filename = 'final_' + org_name + '.json'\n",
    "    \n",
    "        with open(os.path.join(destination_dir,filename), \"w\") as f:\n",
    "            json.dump(all_dict, f) \n",
    "            \n",
    "        strCList = []\n",
    "        strList = []\n",
    "        all_dict = {}"
   ]
  },
  {
   "cell_type": "code",
   "execution_count": null,
   "metadata": {},
   "outputs": [],
   "source": []
  }
 ],
 "metadata": {
  "kernelspec": {
   "display_name": "Python 3",
   "language": "python",
   "name": "python3"
  },
  "language_info": {
   "codemirror_mode": {
    "name": "ipython",
    "version": 3
   },
   "file_extension": ".py",
   "mimetype": "text/x-python",
   "name": "python",
   "nbconvert_exporter": "python",
   "pygments_lexer": "ipython3",
   "version": "3.8.5"
  }
 },
 "nbformat": 4,
 "nbformat_minor": 4
}
