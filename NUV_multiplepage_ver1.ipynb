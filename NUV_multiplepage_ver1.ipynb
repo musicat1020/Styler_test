{
 "cells": [
  {
   "cell_type": "code",
   "execution_count": 1,
   "metadata": {},
   "outputs": [
    {
     "name": "stdout",
     "output_type": "stream",
     "text": [
      "進到第1頁\n",
      "進到第一個for迴圈\n"
     ]
    }
   ],
   "source": [
    "from selenium import webdriver\n",
    "import time\n",
    "import urllib\n",
    "import os\n",
    "# 存圖位置\n",
    "local_path = 'C://Users//JIALI//Desktop//nuv0606//'\n",
    "\n",
    "\n",
    "#dirname=\"NUV_女裝\"\n",
    "#os.mkdir(dirname)\n",
    "\n",
    "    \n",
    "# 目標元素的xpath\n",
    "xpath = '//*[@id=\"prodImgDefault\"]/img'\n",
    "#//*[@id=\"productsList\"]/figcaption/a/img\n",
    "# 啟動chrome瀏覽器\n",
    "chromeDriver = r'C://Users//JIALI//Desktop//Styler_test//chromedriver.exe' # chromedriver檔案放的位置\n",
    "driver = webdriver.Chrome(chromeDriver) \n",
    "  \n",
    "# 最大化窗口，因為每一次爬取只能看到視窗内的圖片  \n",
    "driver.maximize_window()  \n",
    "  \n",
    "# 紀錄下載過的圖片網址，避免重複下載  \n",
    "img_url_dic = {}  \n",
    "  \n",
    "# 瀏覽器打開爬取頁面\n",
    "#driver.get(url)  \n",
    "  \n",
    "# 模擬滾動視窗瀏覽更多圖片\n",
    "pos = 0  \n",
    "m = 1 # 圖片編號  \n",
    "for page in range(1,2):   \n",
    "    #https://www.nuvfashion.com/zh-TW/Net/productlist?item1=01&page=x\n",
    "    url = 'https://www.uniqlo.com/tw/store/feature/women/tops/short-sleeves-and-tank-top/'\n",
    "    url = url.replace('x',str(page))\n",
    "    driver.get(url) \n",
    "    print(\"進到第\"+str(page)+\"頁\")\n",
    "    \n",
    "    pos += page*10000 # 每次下滾1000  \n",
    "    js = \"document.documentElement.scrollTop=%d\" % pos  \n",
    "    driver.execute_script(js)  \n",
    "    time.sleep(1)\n",
    "    print(\"進到第一個for迴圈\")\n",
    "        \n",
    "    \n",
    "    for element in driver.find_elements_by_xpath(xpath):\n",
    "        try:\n",
    "            img_url = element.get_attribute('src')\n",
    "            \n",
    "            print(\"進到for迴圈\")\n",
    "            # 保存圖片到指定路徑\n",
    "            if img_url != None and not img_url in img_url_dic:\n",
    "                img_url_dic[img_url] = ''  \n",
    "                m += 1\n",
    "                print(\"第\"+str(m)+\"張\")\n",
    "                print(img_url)\n",
    "                ext = img_url.split('/')[-1]\n",
    "                 #print(ext)\n",
    "                #filename = str(m) + 'clothes' + '_' + ext +'.jpg'\n",
    "                filename = str(m) + 'clothes' +'.jpg'\n",
    "                print(filename)\n",
    "                \n",
    "                # 保存圖片\n",
    "                urllib.request.urlretrieve(img_url, os.path.join(local_path , filename))\n",
    "                #print(\"存檔\")\n",
    "                \n",
    "        except OSError:\n",
    "            print('發生OSError!')\n",
    "            print(pos)\n",
    "            break;\n",
    "            \n",
    "driver.close()"
   ]
  },
  {
   "cell_type": "code",
   "execution_count": null,
   "metadata": {},
   "outputs": [],
   "source": []
  },
  {
   "cell_type": "code",
   "execution_count": null,
   "metadata": {},
   "outputs": [],
   "source": []
  }
 ],
 "metadata": {
  "kernelspec": {
   "display_name": "Python 3",
   "language": "python",
   "name": "python3"
  },
  "language_info": {
   "codemirror_mode": {
    "name": "ipython",
    "version": 3
   },
   "file_extension": ".py",
   "mimetype": "text/x-python",
   "name": "python",
   "nbconvert_exporter": "python",
   "pygments_lexer": "ipython3",
   "version": "3.7.4"
  }
 },
 "nbformat": 4,
 "nbformat_minor": 2
}
