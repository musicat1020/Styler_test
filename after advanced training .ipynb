{
 "cells": [
  {
   "cell_type": "code",
   "execution_count": 6,
   "metadata": {},
   "outputs": [],
   "source": [
    "from azure.cognitiveservices.vision.customvision.training import CustomVisionTrainingClient\n",
    "from azure.cognitiveservices.vision.customvision.prediction import CustomVisionPredictionClient\n",
    "from azure.cognitiveservices.vision.customvision.training.models import ImageFileCreateBatch, ImageFileCreateEntry, Region\n",
    "from msrest.authentication import ApiKeyCredentials\n",
    "from sklearn import preprocessing\n",
    "import numpy as np\n",
    "import time\n",
    "import os\n",
    "from PIL import Image\n",
    "import json\n",
    "from pathlib import Path\n",
    "import numpy as np\n",
    "from sklearn.preprocessing import normalize\n",
    "from datetime import datetime\n",
    "import random\n",
    "import matplotlib.pyplot as plt # plt 用於顯示圖片\n",
    "import matplotlib.image as mpimg # mpimg 用於讀取圖片"
   ]
  },
  {
   "cell_type": "code",
   "execution_count": 7,
   "metadata": {},
   "outputs": [],
   "source": [
    "# Replace with valid values\n",
    "#確認以下這些東西有無正確\n",
    "ENDPOINT = \"https://testod.cognitiveservices.azure.com/\"\n",
    "training_key = \"305b1fb89c6c447ea1a4a1645885c1ac\"\n",
    "prediction_key = \"ff834bf5c2ed4855be628a6bf23624c5\"\n",
    "prediction_resource_id = \"/subscriptions/6bb19610-9077-414c-971c-e545a2e35961/resourceGroups/test/providers/Microsoft.CognitiveServices/accounts/testOD-Prediction\"\n",
    "#publish_iteration_name = \"Iteration4\"\n",
    "project_id = \"d42b6a11-eb79-404a-81db-beb0f4e485ba\"\n",
    "#iteration_id = \"ee16938c-d504-49b9-8ab7-75457c735079\""
   ]
  },
  {
   "attachments": {
    "image.png": {
     "image/png": "[encoded data removed]"
    }
   },
   "cell_type": "markdown",
   "metadata": {},
   "source": [
    "## 範例\n",
    "![image.png](attachment:image.png)"
   ]
  },
  {
   "cell_type": "code",
   "execution_count": 8,
   "metadata": {},
   "outputs": [],
   "source": [
    "credentials = ApiKeyCredentials(in_headers={\"Training-key\": training_key})\n",
    "trainer = CustomVisionTrainingClient(ENDPOINT, credentials)\n",
    "prediction_credentials = ApiKeyCredentials(in_headers={\"Prediction-key\": prediction_key})\n",
    "predictor = CustomVisionPredictionClient(ENDPOINT, prediction_credentials)"
   ]
  },
  {
   "cell_type": "code",
   "execution_count": 9,
   "metadata": {},
   "outputs": [
    {
     "ename": "CustomVisionErrorException",
     "evalue": "Name not unique: sling dress, Project: d42b6a11-eb79-404a-81db-beb0f4e485ba",
     "output_type": "error",
     "traceback": [
      "\u001b[1;31m---------------------------------------------------------------------------\u001b[0m",
      "\u001b[1;31mCustomVisionErrorException\u001b[0m                Traceback (most recent call last)",
      "\u001b[1;32m<ipython-input-9-38d7d4569255>\u001b[0m in \u001b[0;36m<module>\u001b[1;34m\u001b[0m\n\u001b[0;32m     20\u001b[0m \u001b[1;33m\u001b[0m\u001b[0m\n\u001b[0;32m     21\u001b[0m \u001b[1;31m#這邊應該可以再優化\u001b[0m\u001b[1;33m\u001b[0m\u001b[1;33m\u001b[0m\u001b[1;33m\u001b[0m\u001b[0m\n\u001b[1;32m---> 22\u001b[1;33m \u001b[0msling_dress_tag\u001b[0m \u001b[1;33m=\u001b[0m \u001b[0mtrainer\u001b[0m\u001b[1;33m.\u001b[0m\u001b[0mcreate_tag\u001b[0m\u001b[1;33m(\u001b[0m\u001b[0mproject_id\u001b[0m\u001b[1;33m,\u001b[0m \u001b[1;34m\"sling dress\"\u001b[0m\u001b[1;33m)\u001b[0m\u001b[1;33m\u001b[0m\u001b[1;33m\u001b[0m\u001b[0m\n\u001b[0m\u001b[0;32m     23\u001b[0m \u001b[0mvest_dress_tag\u001b[0m \u001b[1;33m=\u001b[0m \u001b[0mtrainer\u001b[0m\u001b[1;33m.\u001b[0m\u001b[0mcreate_tag\u001b[0m\u001b[1;33m(\u001b[0m\u001b[0mproject_id\u001b[0m\u001b[1;33m,\u001b[0m \u001b[1;34m\"vest dress\"\u001b[0m\u001b[1;33m)\u001b[0m\u001b[1;33m\u001b[0m\u001b[1;33m\u001b[0m\u001b[0m\n\u001b[0;32m     24\u001b[0m \u001b[0mshort_sleeve_dress_tag\u001b[0m \u001b[1;33m=\u001b[0m \u001b[0mtrainer\u001b[0m\u001b[1;33m.\u001b[0m\u001b[0mcreate_tag\u001b[0m\u001b[1;33m(\u001b[0m\u001b[0mproject_id\u001b[0m\u001b[1;33m,\u001b[0m \u001b[1;34m\"short sleeve dress\"\u001b[0m\u001b[1;33m)\u001b[0m\u001b[1;33m\u001b[0m\u001b[1;33m\u001b[0m\u001b[0m\n",
      "\u001b[1;32m~\\Anaconda3\\lib\\site-packages\\azure\\cognitiveservices\\vision\\customvision\\training\\operations\\_custom_vision_training_client_operations.py\u001b[0m in \u001b[0;36mcreate_tag\u001b[1;34m(self, project_id, name, description, type, custom_headers, raw, **operation_config)\u001b[0m\n\u001b[0;32m   2943\u001b[0m \u001b[1;33m\u001b[0m\u001b[0m\n\u001b[0;32m   2944\u001b[0m         \u001b[1;32mif\u001b[0m \u001b[0mresponse\u001b[0m\u001b[1;33m.\u001b[0m\u001b[0mstatus_code\u001b[0m \u001b[1;32mnot\u001b[0m \u001b[1;32min\u001b[0m \u001b[1;33m[\u001b[0m\u001b[1;36m200\u001b[0m\u001b[1;33m]\u001b[0m\u001b[1;33m:\u001b[0m\u001b[1;33m\u001b[0m\u001b[1;33m\u001b[0m\u001b[0m\n\u001b[1;32m-> 2945\u001b[1;33m             \u001b[1;32mraise\u001b[0m \u001b[0mmodels\u001b[0m\u001b[1;33m.\u001b[0m\u001b[0mCustomVisionErrorException\u001b[0m\u001b[1;33m(\u001b[0m\u001b[0mself\u001b[0m\u001b[1;33m.\u001b[0m\u001b[0m_deserialize\u001b[0m\u001b[1;33m,\u001b[0m \u001b[0mresponse\u001b[0m\u001b[1;33m)\u001b[0m\u001b[1;33m\u001b[0m\u001b[1;33m\u001b[0m\u001b[0m\n\u001b[0m\u001b[0;32m   2946\u001b[0m \u001b[1;33m\u001b[0m\u001b[0m\n\u001b[0;32m   2947\u001b[0m         \u001b[0mdeserialized\u001b[0m \u001b[1;33m=\u001b[0m \u001b[1;32mNone\u001b[0m\u001b[1;33m\u001b[0m\u001b[1;33m\u001b[0m\u001b[0m\n",
      "\u001b[1;31mCustomVisionErrorException\u001b[0m: Name not unique: sling dress, Project: d42b6a11-eb79-404a-81db-beb0f4e485ba"
     ]
    }
   ],
   "source": [
    "# Make two tags in the new project\n",
    "category_dict = { 1 :'short_sleeve_top', 2 :'long_sleeve_top', 3 :'short_sleeve_outwear', 4 :'long_sleeve_outwear', \n",
    "                  5 :'vest', 6 :'sling', 7 :'shorts', 8 :'trousers', 9 :'skirt', 10 :'short_sleeve_dress', \n",
    "                  11 :'long_sleeve_dress', 12 :'vest_dress', 13 :'sling_dress'}\n",
    "regions_arr = [0] * 13\n",
    "key_arr = [0] * 13\n",
    "value_arr = [0] * 13\n",
    "for i in range(1,14):\n",
    "    category = category_dict.get(i)\n",
    "    str_category = str(category)\n",
    "    key_name = str_category + '_key'\n",
    "    value_name = str_category + '_value'\n",
    "    key_arr[i-1] = key_name\n",
    "    value_arr[i-1] = value_name\n",
    "    #tag_name = str_category + '_tag'\n",
    "    #tag_name = trainer.create_tag(project.id, str_category)\n",
    "    regions_name = str_category + '_regions'\n",
    "    regions_arr[i-1] = regions_name\n",
    "    #regions_name = {}\n",
    "    \n",
    "#這邊應該可以再優化\n",
    "sling_dress_tag = trainer.create_tag(project_id, \"sling dress\") \n",
    "vest_dress_tag = trainer.create_tag(project_id, \"vest dress\")\n",
    "short_sleeve_dress_tag = trainer.create_tag(project_id, \"short sleeve dress\")\n",
    "sling_tag = trainer.create_tag(project_id, \"sling\")\n",
    "vest_tag = trainer.create_tag(project_id, \"vest\")\n",
    "long_sleeve_outwear_tag = trainer.create_tag(project_id, \"long sleeve outwear\")\n",
    "short_sleeve_outwear_tag = trainer.create_tag(project_id, \"short sleeve outwear\")\n",
    "long_sleeve_top_tag = trainer.create_tag(project_id, \"long sleeve top\")\n",
    "long_sleeve_dress_tag = trainer.create_tag(project_id, \"long sleeve dress\")\n",
    "short_sleeve_top_tag = trainer.create_tag(project_id, \"short sleeve top\")\n",
    "skirt_tag = trainer.create_tag(project_id, \"skirt\")\n",
    "shorts_tag = trainer.create_tag(project_id, \"shorts\")\n",
    "trousers_tag = trainer.create_tag(project_id, \"trousers\")\n"
   ]
  },
  {
   "cell_type": "code",
   "execution_count": null,
   "metadata": {},
   "outputs": [],
   "source": [
    "#建一個資料夾 裡面放圖片跟json檔\n",
    "base_location = 'C:/Users/JIALI/Desktop/project/VProject/train/image/'\n",
    "#json_p = 'C:/Users/qingyu/Desktop/yutest/'\n",
    "jList = os.listdir(base_location)\n",
    "\n",
    "#這邊應該可以再優化\n",
    "short_sleeve_top_regions = {}\n",
    "long_sleeve_top_regions = {}\n",
    "short_sleeve_outwear_regions = {}\n",
    "long_sleeve_outwear_regions = {}\n",
    "vest_regions = {}\n",
    "sling_regions = {}\n",
    "shorts_regions = {}\n",
    "trousers_regions = {}\n",
    "skirt_regions = {}\n",
    "short_sleeve_dress_regions = {}\n",
    "long_sleeve_dress_regions = {}\n",
    "vest_dress_regions = {}\n",
    "sling_dress_regions = {}\n",
    "\n",
    "tag_num = 0\n",
    "\n",
    "for file in jList:\n",
    "    \n",
    "    if file.endswith(\".jpg\"):\n",
    "        img = Image.open( os.path.join(base_location,file))\n",
    "        imgSize = img.size  #大小/尺寸\n",
    "        pw = img.width       #图片的宽\n",
    "        ph = img.height      #图片的高\n",
    "        pf = img.format      #图像格式\n",
    "     \n",
    "        \n",
    "# Region Left(rl) = X1 / Image Width\n",
    "# Region Top(rt) = Y1 / Image Height\n",
    "# Region Width(rw) = (X2 — X1) / image Width\n",
    "# Region Height(rh)= (Y2 — Y1) / image Height\n",
    "    \n",
    "    if file.endswith(\".json\"):\n",
    "        with open(os.path.join(base_location,file) , 'r') as reader:\n",
    "            jf = json.loads(reader.read())\n",
    "        strjf = str(jf)\n",
    "        maxi = strjf.count('item') + 1\n",
    "        for i in range (1,maxi):\n",
    "            stri = str(i)\n",
    "            category_id = jf['item'+stri]['category_id']\n",
    "            category_name = category_dict.get(category_id)\n",
    "            rl = jf['item'+stri]['bounding_box'][0]/pw\n",
    "            rt = jf['item'+stri]['bounding_box'][1]/ph\n",
    "            rw = (jf['item'+stri]['bounding_box'][2]-jf['item'+stri]['bounding_box'][0])/pw\n",
    "            rh = (jf['item'+stri]['bounding_box'][3]-jf['item'+stri]['bounding_box'][1])/ph\n",
    "            regions = category_name + '_regions'\n",
    "            if regions in regions_arr:\n",
    "                mydict = eval(regions)\n",
    "                mydict[Path(file).stem]=[rl,rt,rw,rh,category_name]\n",
    "                tag_num = tag_num + 1  \n",
    "    if(tag_num>=200):#因為在免費模式 要小於5000張\n",
    "        break;"
   ]
  },
  {
   "cell_type": "code",
   "execution_count": 11,
   "metadata": {},
   "outputs": [
    {
     "ename": "TypeError",
     "evalue": "get_tag() missing 1 required positional argument: 'tag_id'",
     "output_type": "error",
     "traceback": [
      "\u001b[1;31m---------------------------------------------------------------------------\u001b[0m",
      "\u001b[1;31mTypeError\u001b[0m                                 Traceback (most recent call last)",
      "\u001b[1;32m<ipython-input-11-3c818c2f55ac>\u001b[0m in \u001b[0;36m<module>\u001b[1;34m\u001b[0m\n\u001b[0;32m      5\u001b[0m \u001b[1;31m#print(eval('long_sleeve_top_tag').id)\u001b[0m\u001b[1;33m\u001b[0m\u001b[1;33m\u001b[0m\u001b[1;33m\u001b[0m\u001b[0m\n\u001b[0;32m      6\u001b[0m \u001b[1;33m\u001b[0m\u001b[0m\n\u001b[1;32m----> 7\u001b[1;33m \u001b[0mprint\u001b[0m\u001b[1;33m(\u001b[0m\u001b[0mtrainer\u001b[0m\u001b[1;33m.\u001b[0m\u001b[0mget_tag\u001b[0m\u001b[1;33m(\u001b[0m\u001b[0mproject_id\u001b[0m\u001b[1;33m)\u001b[0m\u001b[1;33m)\u001b[0m\u001b[1;33m\u001b[0m\u001b[1;33m\u001b[0m\u001b[0m\n\u001b[0m\u001b[0;32m      8\u001b[0m \u001b[1;31m# print (\"Adding images...\")\u001b[0m\u001b[1;33m\u001b[0m\u001b[1;33m\u001b[0m\u001b[1;33m\u001b[0m\u001b[0m\n\u001b[0;32m      9\u001b[0m \u001b[1;31m# total_count = 0\u001b[0m\u001b[1;33m\u001b[0m\u001b[1;33m\u001b[0m\u001b[1;33m\u001b[0m\u001b[0m\n",
      "\u001b[1;31mTypeError\u001b[0m: get_tag() missing 1 required positional argument: 'tag_id'"
     ]
    }
   ],
   "source": [
    "# Update this with the path to where you downloaded the images.\n",
    "# Go through the data table above and create the images\n",
    "\n",
    "#土法煉鋼   先找到那個種類的tag id\n",
    "#print(eval('long_sleeve_top_tag').id)\n",
    "\n",
    "print(trainer.get_tag(project_id))\n",
    "print (\"Adding images...\")\n",
    "total_count = 0\n",
    "def upload():\n",
    "    global total_count \n",
    "    count=0\n",
    "    tagged_images_with_regions = []\n",
    "    length = len(regions_arr)\n",
    "    for i in range(0,length):\n",
    "        key_arr[i] = list(eval(regions_arr[i]))\n",
    "        value_arr[i] = list(eval(regions_arr[i]).values())\n",
    "        for file_name in key_arr[i]:\n",
    "            index = key_arr[i].index(file_name)\n",
    "            x,y,w,h,c = value_arr[i][index]\n",
    "            regions = c + '_regions'\n",
    "            regions_dict = eval(regions)\n",
    "            del regions_dict[file_name]\n",
    "            key_arr[i] = list(regions_dict)\n",
    "            value_arr[i] = list(regions_dict.values())\n",
    "            tag = c + '_tag'\n",
    "            #這裡改成那個種類的id!!\n",
    "            regions = [ Region(tag_id='761f6e23-3174-4f17-b36d-bdde607d8471', left=x,top=y,width=w,height=h) ] \n",
    "            count=count+1\n",
    "            total_count = total_count+1\n",
    "            with open(base_location  + file_name + \".jpg\", mode=\"rb\") as image_contents:\n",
    "                tagged_images_with_regions.append(ImageFileCreateEntry(name=file_name, contents=image_contents.read(), regions=regions))\n",
    "           \n",
    "            if(count>=64):\n",
    "                print(\"count\",count)\n",
    "                print(\"total_count\",total_count)\n",
    "                break\n",
    "        else:\n",
    "            continue\n",
    "        break\n",
    "                \n",
    "            \n",
    "    upload_result = trainer.create_images_from_files(project_id, ImageFileCreateBatch(images=tagged_images_with_regions))\n",
    "\n",
    "    tagged_images_with_regions.clear()\n",
    "\n",
    "    if not upload_result.is_batch_successful:\n",
    "        print(\"Image batch upload failed.\")\n",
    "        for image in upload_result.images:\n",
    "            print(\"Image status: \", image.status)\n",
    "        exit(-1)\n",
    "#end upload    \n",
    "\n",
    "maxn = int(tag_num/64) + 1\n",
    "for n in range (0,maxn): \n",
    "    upload()\n",
    "    print(n)\n",
    "#for n in range (0,maxn): upload()  \n"
   ]
  },
  {
   "cell_type": "code",
   "execution_count": 40,
   "metadata": {},
   "outputs": [
    {
     "name": "stdout",
     "output_type": "stream",
     "text": [
      "57\n",
      "Sat May 29 17:24:41 2021\n",
      "Training...\n"
     ]
    },
    {
     "ename": "CustomVisionErrorException",
     "evalue": "Not enough images per tag for training",
     "output_type": "error",
     "traceback": [
      "\u001b[1;31m---------------------------------------------------------------------------\u001b[0m",
      "\u001b[1;31mCustomVisionErrorException\u001b[0m                Traceback (most recent call last)",
      "\u001b[1;32m<ipython-input-40-21154a9a15f9>\u001b[0m in \u001b[0;36m<module>\u001b[1;34m\u001b[0m\n\u001b[0;32m      4\u001b[0m \u001b[0mprint\u001b[0m \u001b[1;33m(\u001b[0m\u001b[1;34m\"Training...\"\u001b[0m\u001b[1;33m)\u001b[0m\u001b[1;33m\u001b[0m\u001b[1;33m\u001b[0m\u001b[0m\n\u001b[0;32m      5\u001b[0m \u001b[1;33m\u001b[0m\u001b[0m\n\u001b[1;32m----> 6\u001b[1;33m \u001b[0miteration\u001b[0m \u001b[1;33m=\u001b[0m \u001b[0mtrainer\u001b[0m\u001b[1;33m.\u001b[0m\u001b[0mtrain_project\u001b[0m\u001b[1;33m(\u001b[0m\u001b[0mproject_id\u001b[0m\u001b[1;33m)\u001b[0m\u001b[1;33m\u001b[0m\u001b[1;33m\u001b[0m\u001b[0m\n\u001b[0m\u001b[0;32m      7\u001b[0m \u001b[1;32mwhile\u001b[0m \u001b[1;33m(\u001b[0m\u001b[0miteration\u001b[0m\u001b[1;33m.\u001b[0m\u001b[0mstatus\u001b[0m \u001b[1;33m!=\u001b[0m \u001b[1;34m\"Completed\"\u001b[0m\u001b[1;33m)\u001b[0m\u001b[1;33m:\u001b[0m\u001b[1;33m\u001b[0m\u001b[1;33m\u001b[0m\u001b[0m\n\u001b[0;32m      8\u001b[0m     \u001b[0miteration\u001b[0m \u001b[1;33m=\u001b[0m \u001b[0mtrainer\u001b[0m\u001b[1;33m.\u001b[0m\u001b[0mget_iteration\u001b[0m\u001b[1;33m(\u001b[0m\u001b[0mproject_id\u001b[0m\u001b[1;33m,\u001b[0m \u001b[0miteration\u001b[0m\u001b[1;33m.\u001b[0m\u001b[0mid\u001b[0m\u001b[1;33m)\u001b[0m\u001b[1;33m\u001b[0m\u001b[1;33m\u001b[0m\u001b[0m\n",
      "\u001b[1;32m~\\Anaconda3\\lib\\site-packages\\azure\\cognitiveservices\\vision\\customvision\\training\\operations\\_custom_vision_training_client_operations.py\u001b[0m in \u001b[0;36mtrain_project\u001b[1;34m(self, project_id, training_type, reserved_budget_in_hours, force_train, notification_email_address, selected_tags, custom_base_model_info, custom_headers, raw, **operation_config)\u001b[0m\n\u001b[0;32m   3272\u001b[0m \u001b[1;33m\u001b[0m\u001b[0m\n\u001b[0;32m   3273\u001b[0m         \u001b[1;32mif\u001b[0m \u001b[0mresponse\u001b[0m\u001b[1;33m.\u001b[0m\u001b[0mstatus_code\u001b[0m \u001b[1;32mnot\u001b[0m \u001b[1;32min\u001b[0m \u001b[1;33m[\u001b[0m\u001b[1;36m200\u001b[0m\u001b[1;33m]\u001b[0m\u001b[1;33m:\u001b[0m\u001b[1;33m\u001b[0m\u001b[1;33m\u001b[0m\u001b[0m\n\u001b[1;32m-> 3274\u001b[1;33m             \u001b[1;32mraise\u001b[0m \u001b[0mmodels\u001b[0m\u001b[1;33m.\u001b[0m\u001b[0mCustomVisionErrorException\u001b[0m\u001b[1;33m(\u001b[0m\u001b[0mself\u001b[0m\u001b[1;33m.\u001b[0m\u001b[0m_deserialize\u001b[0m\u001b[1;33m,\u001b[0m \u001b[0mresponse\u001b[0m\u001b[1;33m)\u001b[0m\u001b[1;33m\u001b[0m\u001b[1;33m\u001b[0m\u001b[0m\n\u001b[0m\u001b[0;32m   3275\u001b[0m \u001b[1;33m\u001b[0m\u001b[0m\n\u001b[0;32m   3276\u001b[0m         \u001b[0mdeserialized\u001b[0m \u001b[1;33m=\u001b[0m \u001b[1;32mNone\u001b[0m\u001b[1;33m\u001b[0m\u001b[1;33m\u001b[0m\u001b[0m\n",
      "\u001b[1;31mCustomVisionErrorException\u001b[0m: Not enough images per tag for training"
     ]
    }
   ],
   "source": [
    "print (total_count)#281-16 10分鐘   #4792-11\n",
    "t1 = time.time()\n",
    "print (time.asctime( time.localtime(t1) ))\n",
    "print (\"Training...\")\n",
    "\n",
    "iteration = trainer.train_project(project_id)\n",
    "while (iteration.status != \"Completed\"):\n",
    "    iteration = trainer.get_iteration(project_id, iteration.id)\n",
    "    print (\"Training status: \" + iteration.status)\n",
    "    time.sleep(60)\n",
    "t2 = time.time()\n",
    "print (time.asctime( time.localtime(t2) ))\n",
    "print (\"花費時間\",str(round((t2-t1)/60,2)),\"分鐘\")"
   ]
  },
  {
   "cell_type": "code",
   "execution_count": null,
   "metadata": {},
   "outputs": [],
   "source": [
    "# The iteration is now trained. Publish it to the project endpoint\n",
    "#trainer.publish_iteration(project.id, iteration.id, publish_iteration_name, prediction_resource_id)\n",
    "\n",
    "trainer.publish_iteration(project_id, iteration_id , publish_iteration_name ,  prediction_resource_id)\n",
    "\n",
    "print (\"Done!\")"
   ]
  },
  {
   "cell_type": "code",
   "execution_count": null,
   "metadata": {
    "scrolled": false
   },
   "outputs": [],
   "source": [
    "# Now there is a trained endpoint that can be used to make a prediction\n",
    "\n",
    "# Open the sample image and get back the prediction results.\n",
    "test_path =\"C:/Users/JIALI/Desktop/project/VProject/validation/image/\"\n",
    "   \n",
    "def quicktest():\n",
    "    \n",
    "    img = str(random.randint(0,9999)).zfill(6)+\".jpg\"\n",
    "    lena = mpimg.imread(test_path+img)\n",
    "    plt.imshow(lena)\n",
    "    plt.axis('off') # 不顯示座標軸\n",
    "    print(img)\n",
    "    plt.show()\n",
    "    with open(test_path+img, mode=\"rb\") as test_data:#記得改project id\n",
    "        results = predictor.detect_image(project_id,publish_iteration_name, test_data)\n",
    "   \n",
    "    count = 1\n",
    "# Display the results.    \n",
    "    for prediction in results.predictions:\n",
    "        if(count<4):\n",
    "            print(\"\\t第\"+str(count)+\"高的標籤：\" + prediction.tag_name + \": {0:.2f}% bbox.left = {1:.2f}, bbox.top = {2:.2f}, bbox.width = {3:.2f}, bbox.height = {4:.2f}\".format(prediction.probability * 100, prediction.bounding_box.left, prediction.bounding_box.top, prediction.bounding_box.width, prediction.bounding_box.height))\n",
    "            count = count+1\n",
    "#         else:\n",
    "#             print(\"\\t\" + prediction.tag_name + \": {0:.2f}% bbox.left = {1:.2f}, bbox.top = {2:.2f}, bbox.width = {3:.2f}, bbox.height = {4:.2f}\".format(prediction.probability * 100, prediction.bounding_box.left, prediction.bounding_box.top, prediction.bounding_box.width, prediction.bounding_box.height))\n",
    "\n",
    "for i in range(1,10):\n",
    "    quicktest()"
   ]
  },
  {
   "cell_type": "code",
   "execution_count": null,
   "metadata": {},
   "outputs": [],
   "source": []
  }
 ],
 "metadata": {
  "kernelspec": {
   "display_name": "Python 3",
   "language": "python",
   "name": "python3"
  },
  "language_info": {
   "codemirror_mode": {
    "name": "ipython",
    "version": 3
   },
   "file_extension": ".py",
   "mimetype": "text/x-python",
   "name": "python",
   "nbconvert_exporter": "python",
   "pygments_lexer": "ipython3",
   "version": "3.7.4"
  }
 },
 "nbformat": 4,
 "nbformat_minor": 2
}
